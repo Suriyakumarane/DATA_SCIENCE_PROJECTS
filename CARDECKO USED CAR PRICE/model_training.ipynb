{
 "cells": [
  {
   "cell_type": "code",
   "execution_count": null,
   "metadata": {},
   "outputs": [],
   "source": [
    "# Train Test Split\n",
    "from sklearn.model_selection import train_test_split\n",
    "\n",
    "# Encoding Categorical variables\n",
    "from sklearn.compose import ColumnTransformer\n",
    "from sklearn.preprocessing import OneHotEncoder\n",
    "\n",
    "# Regressors\n",
    "from sklearn.tree import DecisionTreeRegressor\n",
    "from sklearn.ensemble import RandomForestRegressor\n",
    "from sklearn.ensemble import GradientBoostingRegressor\n",
    "\n",
    "# Evaluation metrics\n",
    "from sklearn.metrics import r2_score\n",
    "\n",
    "# Data loading\n",
    "import pandas as pd"
   ]
  },
  {
   "cell_type": "code",
   "execution_count": null,
   "metadata": {},
   "outputs": [],
   "source": [
    "df = pd.read_csv(r'F:\\GUVI_DATA_SCIENCE\\Project\\CarDekho-Used-Car-Price-Prediction\\Datasets\\Final\\processed_final_data.csv')"
   ]
  },
  {
   "cell_type": "code",
   "execution_count": null,
   "metadata": {},
   "outputs": [],
   "source": [
    "df.head()"
   ]
  },
  {
   "cell_type": "markdown",
   "metadata": {},
   "source": [
    "##### *Train test split*"
   ]
  },
  {
   "cell_type": "code",
   "execution_count": null,
   "metadata": {},
   "outputs": [],
   "source": [
    "x = df.drop(['price', 'location'], axis = 1)\n",
    "y  = df['price']"
   ]
  },
  {
   "cell_type": "code",
   "execution_count": null,
   "metadata": {},
   "outputs": [],
   "source": [
    "x_train, x_test, y_train, y_test = train_test_split(x, y, test_size = 0.2, random_state = 2)"
   ]
  },
  {
   "cell_type": "code",
   "execution_count": null,
   "metadata": {},
   "outputs": [],
   "source": [
    "x_train.shape, x_test.shape"
   ]
  },
  {
   "cell_type": "markdown",
   "metadata": {},
   "source": [
    "##### *Encoding categorical variables*"
   ]
  },
  {
   "cell_type": "code",
   "execution_count": null,
   "metadata": {},
   "outputs": [],
   "source": [
    "transformer = ColumnTransformer([('trans1', OneHotEncoder(sparse_output = False, handle_unknown = 'error', drop = 'first'), [0,2,3,4,7,14,15,16,17])], remainder = 'passthrough')"
   ]
  },
  {
   "cell_type": "code",
   "execution_count": null,
   "metadata": {},
   "outputs": [],
   "source": [
    "x_train_transformed = transformer.fit_transform(x_train)"
   ]
  },
  {
   "cell_type": "code",
   "execution_count": null,
   "metadata": {},
   "outputs": [],
   "source": [
    "x_test_transformed = transformer.transform(x_test)"
   ]
  },
  {
   "cell_type": "markdown",
   "metadata": {},
   "source": [
    "##### *Model training*"
   ]
  },
  {
   "cell_type": "code",
   "execution_count": null,
   "metadata": {},
   "outputs": [],
   "source": [
    "def model_training(model_name, x_train, y_train):\n",
    "    if model_name == 'DecisionTreeRegressor':\n",
    "        model = DecisionTreeRegressor(random_state = 42)\n",
    "\n",
    "\n",
    "    elif model_name == 'RandomForestRegressor':\n",
    "        model = RandomForestRegressor(random_state = 42)\n",
    "\n",
    "\n",
    "    elif model_name == 'GradientBoostingRegressor':\n",
    "        model = GradientBoostingRegressor(random_state = 42)\n",
    "\n",
    "    model.fit(x_train, y_train)\n",
    "\n",
    "    return model"
   ]
  },
  {
   "cell_type": "markdown",
   "metadata": {},
   "source": [
    "##### **DecisionTreeRegressor**"
   ]
  },
  {
   "cell_type": "code",
   "execution_count": null,
   "metadata": {},
   "outputs": [],
   "source": [
    "dtr = model_training('DecisionTreeRegressor', x_train_transformed, y_train)\n",
    "\n",
    "y_train_pred_1 = dtr.predict(x_train_transformed)\n",
    "y_test_pred_1 = dtr.predict(x_test_transformed)"
   ]
  },
  {
   "cell_type": "markdown",
   "metadata": {},
   "source": [
    "##### **RandomForestRegressor**"
   ]
  },
  {
   "cell_type": "code",
   "execution_count": null,
   "metadata": {},
   "outputs": [],
   "source": [
    "rfr = model_training('RandomForestRegressor', x_train_transformed, y_train)\n",
    "\n",
    "y_train_pred_2 = rfr.predict(x_train_transformed)\n",
    "y_test_pred_2 = rfr.predict(x_test_transformed)"
   ]
  },
  {
   "cell_type": "markdown",
   "metadata": {},
   "source": [
    "##### **GradientBoostingRegressor**"
   ]
  },
  {
   "cell_type": "code",
   "execution_count": null,
   "metadata": {},
   "outputs": [],
   "source": [
    "gbr = model_training('GradientBoostingRegressor', x_train_transformed, y_train)\n",
    "\n",
    "y_train_pred_3 = gbr.predict(x_train_transformed)\n",
    "y_test_pred_3 = gbr.predict(x_test_transformed)"
   ]
  },
  {
   "cell_type": "markdown",
   "metadata": {},
   "source": [
    "##### **Evaluation**"
   ]
  },
  {
   "cell_type": "code",
   "execution_count": null,
   "metadata": {},
   "outputs": [],
   "source": [
    "def evalutaion_metrics(y, y_pred):\n",
    "    r2 = r2_score(y, y_pred)\n",
    "\n",
    "    return f'{round(r2*100)}%'"
   ]
  },
  {
   "cell_type": "markdown",
   "metadata": {},
   "source": [
    "##### **DecisionTreeRegressor**"
   ]
  },
  {
   "cell_type": "code",
   "execution_count": null,
   "metadata": {},
   "outputs": [],
   "source": [
    "r2_score_train_1 = evalutaion_metrics(y_train, y_train_pred_1)\n",
    "print('The r2 score of training set :', r2_score_train_1)\n",
    "\n",
    "r2_score_test_1 = evalutaion_metrics(y_test, y_test_pred_1)\n",
    "print('The r2 score of testing set :', r2_score_test_1)"
   ]
  },
  {
   "cell_type": "markdown",
   "metadata": {},
   "source": [
    "##### **RandomForestRegressor**"
   ]
  },
  {
   "cell_type": "code",
   "execution_count": null,
   "metadata": {},
   "outputs": [],
   "source": [
    "r2_score_train_2 = evalutaion_metrics(y_train, y_train_pred_2)\n",
    "print('The r2 score of training set :', r2_score_train_2)\n",
    "\n",
    "r2_score_test_2 = evalutaion_metrics(y_test, y_test_pred_2)\n",
    "print('The r2 score of testing set :', r2_score_test_2)"
   ]
  },
  {
   "cell_type": "markdown",
   "metadata": {},
   "source": [
    "##### **GradientBoostingRegressor**"
   ]
  },
  {
   "cell_type": "code",
   "execution_count": null,
   "metadata": {},
   "outputs": [],
   "source": [
    "r2_score_train_3 = evalutaion_metrics(y_train, y_train_pred_3)\n",
    "print('The r2 score of training set :', r2_score_train_3)\n",
    "\n",
    "r2_score_test_3 = evalutaion_metrics(y_test, y_test_pred_3)\n",
    "print('The r2 score of testing set :', r2_score_test_3)"
   ]
  },
  {
   "cell_type": "markdown",
   "metadata": {},
   "source": [
    "- ##### **Random forest regressor is interpreted to have a r2 score of 98% on training data and r2 score of 85% on testing data**"
   ]
  },
  {
   "cell_type": "markdown",
   "metadata": {},
   "source": [
    "##### **User input prediction**"
   ]
  },
  {
   "cell_type": "code",
   "execution_count": null,
   "metadata": {},
   "outputs": [],
   "source": [
    "manufacturer = 'Maruti'\n",
    "model_year = 2020\n",
    "body_type = 'Hatchback'\n",
    "transmission_type = 'Manual'\n",
    "fuel_type = 'Petrol'\n",
    "total_kms = 120000\n",
    "total_owners = 3\n",
    "insurance_type = 'Third Party insurance'\n",
    "mileage = 23.1\n",
    "engine = 998\n",
    "torque = 90\n",
    "seats = 5\n",
    "number_of_cylinders = 3\n",
    "valves_per_cylinder = 4\n",
    "super_charger = 'No'\n",
    "turbo_charger = 'No'\n",
    "drive_type = 'FWD'\n",
    "steering_type = 'Power'\n",
    "cargo_volume = 500\n",
    "\n",
    "df = pd.DataFrame(data = [[manufacturer, model_year, body_type,\ttransmission_type, fuel_type, total_kms, total_owners, insurance_type, mileage, engine, torque,seats, number_of_cylinders, valves_per_cylinder, super_charger, turbo_charger, drive_type, steering_type, cargo_volume]],\n",
    "                  columns = ['manufacturer', 'model_year', 'body_type', 'transmission_type', 'fuel_type', 'total_kms', 'total_owners', 'insurance_type', 'mileage(kmpl)', 'engine(CC)', 'torque(nm)', 'seats', 'number_of_cylinders', 'valves_per_cylinder', 'super_charger', 'turbo_charger', 'drive_type', 'steering_type', 'cargo_volume'])\n",
    "\n",
    "df"
   ]
  },
  {
   "cell_type": "code",
   "execution_count": null,
   "metadata": {},
   "outputs": [],
   "source": [
    "user_df_transformed = transformer.transform(df)\n",
    "user_df_transformed"
   ]
  },
  {
   "cell_type": "code",
   "execution_count": null,
   "metadata": {},
   "outputs": [],
   "source": [
    "user_prediction = rfr.predict(user_df_transformed)\n",
    "print(user_prediction)"
   ]
  },
  {
   "cell_type": "markdown",
   "metadata": {},
   "source": [
    "##### **Saving the model object and transformer object**"
   ]
  },
  {
   "cell_type": "code",
   "execution_count": null,
   "metadata": {},
   "outputs": [],
   "source": [
    "import pickle\n",
    "\n",
    "# Model Object\n",
    "pickle.dump(rfr, open(r'F:\\GUVI_DATA_SCIENCE\\Project\\CarDekho-Used-Car-Price-Prediction\\Artifacts\\model.pkl', 'wb'))"
   ]
  },
  {
   "cell_type": "code",
   "execution_count": null,
   "metadata": {},
   "outputs": [],
   "source": [
    "# transformer object\n",
    "pickle.dump(transformer, open(r'F:\\GUVI_DATA_SCIENCE\\Project\\CarDekho-Used-Car-Price-Prediction\\Artifacts\\transformer.pkl', 'wb'))"
   ]
  }
 ],
 "metadata": {
  "kernelspec": {
   "display_name": "Python 3 (ipykernel)",
   "language": "python",
   "name": "python3"
  },
  "language_info": {
   "codemirror_mode": {
    "name": "ipython",
    "version": 3
   },
   "file_extension": ".py",
   "mimetype": "text/x-python",
   "name": "python",
   "nbconvert_exporter": "python",
   "pygments_lexer": "ipython3",
   "version": "3.11.5"
  }
 },
 "nbformat": 4,
 "nbformat_minor": 4
}
