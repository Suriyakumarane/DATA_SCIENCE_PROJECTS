{
 "cells": [
  {
   "cell_type": "code",
   "execution_count": 73,
   "metadata": {},
   "outputs": [],
   "source": [
    "import pandas as pd\n",
    "import re"
   ]
  },
  {
   "cell_type": "code",
   "execution_count": 74,
   "metadata": {},
   "outputs": [],
   "source": [
    "df = pd.read_csv(r'C:\\Users\\Gayathri\\OneDrive\\Desktop\\cardeckho\\merged_data.csv ')"
   ]
  },
  {
   "cell_type": "code",
   "execution_count": 75,
   "metadata": {},
   "outputs": [
    {
     "name": "stdout",
     "output_type": "stream",
     "text": [
      "<class 'pandas.core.frame.DataFrame'>\n",
      "RangeIndex: 8369 entries, 0 to 8368\n",
      "Data columns (total 24 columns):\n",
      " #   Column               Non-Null Count  Dtype  \n",
      "---  ------               --------------  -----  \n",
      " 0   manufacturer         8369 non-null   object \n",
      " 1   model_year           8369 non-null   int64  \n",
      " 2   body_type            8365 non-null   object \n",
      " 3   transmission_type    8369 non-null   object \n",
      " 4   fuel_type            8369 non-null   object \n",
      " 5   total_kms            8369 non-null   int64  \n",
      " 6   total_owners         8369 non-null   int64  \n",
      " 7   price                8369 non-null   float64\n",
      " 8   insurance_type       8369 non-null   object \n",
      " 9   mileage(kmpl)        8369 non-null   object \n",
      " 10  engine(CC)           8369 non-null   object \n",
      " 11  max_power(bhp)       8369 non-null   object \n",
      " 12  torque(nm)           8369 non-null   object \n",
      " 13  seats                8368 non-null   float64\n",
      " 14  number_of_cylinders  8369 non-null   int64  \n",
      " 15  valves_per_cylinder  8369 non-null   int64  \n",
      " 16  super_charger        8369 non-null   object \n",
      " 17  turbo_charger        8369 non-null   object \n",
      " 18  gear_box             8369 non-null   object \n",
      " 19  drive_type           8369 non-null   object \n",
      " 20  steering_type        8369 non-null   object \n",
      " 21  top_speed            8369 non-null   object \n",
      " 22  cargo_volume         8369 non-null   object \n",
      " 23  location             8369 non-null   object \n",
      "dtypes: float64(2), int64(5), object(17)\n",
      "memory usage: 1.5+ MB\n"
     ]
    }
   ],
   "source": [
    "df.info()"
   ]
  },
  {
   "cell_type": "markdown",
   "metadata": {},
   "source": [
    "##### **Mileage**"
   ]
  },
  {
   "cell_type": "code",
   "execution_count": 76,
   "metadata": {},
   "outputs": [
    {
     "data": {
      "text/plain": [
       "0        23.1 kmpl\n",
       "1          17 kmpl\n",
       "2       23.84 kmpl\n",
       "3        19.1 kmpl\n",
       "4       23.65 kmpl\n",
       "           ...    \n",
       "8364    25.24 kmpl\n",
       "8365    22.74 kmpl\n",
       "8366    11.74 kmpl\n",
       "8367     18.5 kmpl\n",
       "8368    19.72 kmpl\n",
       "Name: mileage(kmpl), Length: 8369, dtype: object"
      ]
     },
     "execution_count": 76,
     "metadata": {},
     "output_type": "execute_result"
    }
   ],
   "source": [
    "df['mileage(kmpl)']"
   ]
  },
  {
   "cell_type": "code",
   "execution_count": 77,
   "metadata": {},
   "outputs": [],
   "source": [
    "def process_mileage(mileage):\n",
    "    mil = re.sub(r'[A-Za-z/]', '', mileage)\n",
    "    return float(mil)"
   ]
  },
  {
   "cell_type": "code",
   "execution_count": 78,
   "metadata": {},
   "outputs": [],
   "source": [
    "df['mileage(kmpl)'] = df['mileage(kmpl)'].apply(process_mileage)"
   ]
  },
  {
   "cell_type": "markdown",
   "metadata": {},
   "source": [
    "##### **Engine**"
   ]
  },
  {
   "cell_type": "code",
   "execution_count": 79,
   "metadata": {},
   "outputs": [
    {
     "data": {
      "text/plain": [
       "0        998 CC\n",
       "1       1497 CC\n",
       "2       1199 CC\n",
       "3       1197 CC\n",
       "4       1248 CC\n",
       "         ...   \n",
       "8364     998 CC\n",
       "8365     796 CC\n",
       "8366    1796 CC\n",
       "8367    1197 CC\n",
       "8368    1461 CC\n",
       "Name: engine(CC), Length: 8369, dtype: object"
      ]
     },
     "execution_count": 79,
     "metadata": {},
     "output_type": "execute_result"
    }
   ],
   "source": [
    "df['engine(CC)']"
   ]
  },
  {
   "cell_type": "code",
   "execution_count": 80,
   "metadata": {},
   "outputs": [],
   "source": [
    "def process_engine(engine):\n",
    "    eng = re.sub(r'[A-Za-z]', '', engine)\n",
    "    return float(eng)"
   ]
  },
  {
   "cell_type": "code",
   "execution_count": 81,
   "metadata": {},
   "outputs": [],
   "source": [
    "df['engine(CC)'] = df['engine(CC)'].apply(process_engine)"
   ]
  },
  {
   "cell_type": "markdown",
   "metadata": {},
   "source": [
    "##### **Max power**"
   ]
  },
  {
   "cell_type": "code",
   "execution_count": 82,
   "metadata": {},
   "outputs": [],
   "source": [
    "df = df.drop('max_power(bhp)', axis = 1)"
   ]
  },
  {
   "cell_type": "markdown",
   "metadata": {},
   "source": [
    "##### **Torque**"
   ]
  },
  {
   "cell_type": "code",
   "execution_count": 83,
   "metadata": {},
   "outputs": [
    {
     "data": {
      "text/plain": [
       "0           90Nm\n",
       "1          150Nm\n",
       "2          114Nm\n",
       "3       113.75Nm\n",
       "4          200Nm\n",
       "          ...   \n",
       "8364        89Nm\n",
       "8365        69Nm\n",
       "8366       285Nm\n",
       "8367       114Nm\n",
       "8368       245Nm\n",
       "Name: torque(nm), Length: 8369, dtype: object"
      ]
     },
     "execution_count": 83,
     "metadata": {},
     "output_type": "execute_result"
    }
   ],
   "source": [
    "df['torque(nm)']"
   ]
  },
  {
   "cell_type": "code",
   "execution_count": 84,
   "metadata": {},
   "outputs": [],
   "source": [
    "def process_torque(torque):\n",
    "    tor = re.sub(r'[a-zA-Z-/]|[0-9]{1}[,][0-9]{3}|[0-9]{4}|[(]{1}[0-9]{2}[.][0-9]{1}[)]', '', torque)\n",
    "    return float(tor)"
   ]
  },
  {
   "cell_type": "code",
   "execution_count": 85,
   "metadata": {},
   "outputs": [],
   "source": [
    "df['torque(nm)'] = df['torque(nm)'].apply(process_torque)"
   ]
  },
  {
   "cell_type": "markdown",
   "metadata": {},
   "source": [
    "##### **Gear Box**"
   ]
  },
  {
   "cell_type": "code",
   "execution_count": 86,
   "metadata": {},
   "outputs": [],
   "source": [
    "df = df.drop('gear_box', axis = 1)"
   ]
  },
  {
   "cell_type": "markdown",
   "metadata": {},
   "source": [
    "##### **Top Speed**"
   ]
  },
  {
   "cell_type": "code",
   "execution_count": 87,
   "metadata": {},
   "outputs": [],
   "source": [
    "df = df.drop('top_speed', axis = 1)"
   ]
  },
  {
   "cell_type": "markdown",
   "metadata": {},
   "source": [
    "##### **Cargo Volume**"
   ]
  },
  {
   "cell_type": "code",
   "execution_count": 88,
   "metadata": {},
   "outputs": [
    {
     "data": {
      "text/plain": [
       "0    235-litres\n",
       "1    352-litres\n",
       "2    242-litres\n",
       "3    407-litres\n",
       "4    353-litres\n",
       "Name: cargo_volume, dtype: object"
      ]
     },
     "execution_count": 88,
     "metadata": {},
     "output_type": "execute_result"
    }
   ],
   "source": [
    "df['cargo_volume'].head()"
   ]
  },
  {
   "cell_type": "code",
   "execution_count": 89,
   "metadata": {},
   "outputs": [],
   "source": [
    "def process_cargo_volume(cargo_volume):\n",
    "    if len(cargo_volume) > 3:\n",
    "        cargo = re.sub(r'[a-zA-Z-\\s()]|[/][0-9]{4}', '', cargo_volume)\n",
    "        return float(cargo)\n",
    "    else:\n",
    "        return float(cargo_volume)"
   ]
  },
  {
   "cell_type": "code",
   "execution_count": 90,
   "metadata": {},
   "outputs": [],
   "source": [
    "df['cargo_volume'] = df['cargo_volume'].apply(process_cargo_volume)"
   ]
  },
  {
   "cell_type": "code",
   "execution_count": 91,
   "metadata": {},
   "outputs": [
    {
     "name": "stdout",
     "output_type": "stream",
     "text": [
      "<class 'pandas.core.frame.DataFrame'>\n",
      "RangeIndex: 8369 entries, 0 to 8368\n",
      "Data columns (total 21 columns):\n",
      " #   Column               Non-Null Count  Dtype  \n",
      "---  ------               --------------  -----  \n",
      " 0   manufacturer         8369 non-null   object \n",
      " 1   model_year           8369 non-null   int64  \n",
      " 2   body_type            8365 non-null   object \n",
      " 3   transmission_type    8369 non-null   object \n",
      " 4   fuel_type            8369 non-null   object \n",
      " 5   total_kms            8369 non-null   int64  \n",
      " 6   total_owners         8369 non-null   int64  \n",
      " 7   price                8369 non-null   float64\n",
      " 8   insurance_type       8369 non-null   object \n",
      " 9   mileage(kmpl)        8369 non-null   float64\n",
      " 10  engine(CC)           8369 non-null   float64\n",
      " 11  torque(nm)           8369 non-null   float64\n",
      " 12  seats                8368 non-null   float64\n",
      " 13  number_of_cylinders  8369 non-null   int64  \n",
      " 14  valves_per_cylinder  8369 non-null   int64  \n",
      " 15  super_charger        8369 non-null   object \n",
      " 16  turbo_charger        8369 non-null   object \n",
      " 17  drive_type           8369 non-null   object \n",
      " 18  steering_type        8369 non-null   object \n",
      " 19  cargo_volume         8369 non-null   float64\n",
      " 20  location             8369 non-null   object \n",
      "dtypes: float64(6), int64(5), object(10)\n",
      "memory usage: 1.3+ MB\n"
     ]
    }
   ],
   "source": [
    "df.info()"
   ]
  },
  {
   "cell_type": "code",
   "execution_count": 92,
   "metadata": {},
   "outputs": [],
   "source": [
    "df = df.dropna()"
   ]
  },
  {
   "cell_type": "code",
   "execution_count": 93,
   "metadata": {},
   "outputs": [],
   "source": [
    "df.to_csv(r'C:\\Users\\Gayathri\\OneDrive\\Desktop\\cardeckho\\final_data.csv', index = False)"
   ]
  },
  {
   "cell_type": "markdown",
   "metadata": {},
   "source": [
    "---"
   ]
  },
  {
   "cell_type": "code",
   "execution_count": 94,
   "metadata": {},
   "outputs": [],
   "source": [
    "df = pd.read_csv(r'C:\\Users\\Gayathri\\OneDrive\\Desktop\\cardeckho\\final_data.csv')"
   ]
  },
  {
   "cell_type": "code",
   "execution_count": 95,
   "metadata": {},
   "outputs": [
    {
     "data": {
      "text/plain": [
       "(8364, 21)"
      ]
     },
     "execution_count": 95,
     "metadata": {},
     "output_type": "execute_result"
    }
   ],
   "source": [
    "df.shape"
   ]
  },
  {
   "cell_type": "code",
   "execution_count": 96,
   "metadata": {},
   "outputs": [
    {
     "name": "stdout",
     "output_type": "stream",
     "text": [
      "manufacturer\n",
      "Maruti                2249\n",
      "Hyundai               1651\n",
      "Honda                  865\n",
      "Tata                   431\n",
      "Mahindra               377\n",
      "Toyota                 324\n",
      "Renault                312\n",
      "Ford                   311\n",
      "Volkswagen             294\n",
      "Mercedes-Benz          245\n",
      "BMW                    184\n",
      "Skoda                  161\n",
      "Kia                    158\n",
      "Audi                   156\n",
      "Jeep                   112\n",
      "MG                      90\n",
      "Nissan                  77\n",
      "Chevrolet               76\n",
      "Datsun                  74\n",
      "Land Rover              44\n",
      "Volvo                   41\n",
      "Jaguar                  35\n",
      "Fiat                    31\n",
      "Mitsubishi              14\n",
      "Mini                    12\n",
      "Citroen                  8\n",
      "Porsche                  6\n",
      "Lexus                    5\n",
      "Mahindra Renault         5\n",
      "Isuzu                    5\n",
      "Mahindra Ssangyong       4\n",
      "Hindustan Motors         4\n",
      "Opel                     3\n",
      "Name: count, dtype: int64\n",
      "______________________________________________________________________\n",
      "body_type\n",
      "Hatchback        3567\n",
      "SUV              2224\n",
      "Sedan            2174\n",
      "MUV               352\n",
      "Minivans           23\n",
      "Coupe              10\n",
      "Pickup Trucks       6\n",
      "Convertibles        6\n",
      "Hybrids             1\n",
      "Wagon               1\n",
      "Name: count, dtype: int64\n",
      "______________________________________________________________________\n",
      "transmission_type\n",
      "Manual       6048\n",
      "Automatic    2316\n",
      "Name: count, dtype: int64\n",
      "______________________________________________________________________\n",
      "fuel_type\n",
      "Petrol      5549\n",
      "Diesel      2673\n",
      "Cng           98\n",
      "Electric      28\n",
      "Lpg           16\n",
      "Name: count, dtype: int64\n",
      "______________________________________________________________________\n",
      "total_owners\n",
      "1    5878\n",
      "2    1981\n",
      "3     374\n",
      "4      80\n",
      "0      32\n",
      "5      19\n",
      "Name: count, dtype: int64\n",
      "______________________________________________________________________\n",
      "insurance_type\n",
      "Third Party insurance    4057\n",
      "Comprehensive            3146\n",
      "Third Party               630\n",
      "Zero Dep                  303\n",
      "Not Available             223\n",
      "1                           4\n",
      "2                           1\n",
      "Name: count, dtype: int64\n",
      "______________________________________________________________________\n",
      "seats\n",
      "5.0     7356\n",
      "7.0      727\n",
      "6.0      103\n",
      "4.0       93\n",
      "8.0       62\n",
      "9.0       11\n",
      "2.0        7\n",
      "10.0       5\n",
      "Name: count, dtype: int64\n",
      "______________________________________________________________________\n",
      "number_of_cylinders\n",
      "4     6157\n",
      "3     2013\n",
      "6      129\n",
      "5       23\n",
      "2       16\n",
      "7       13\n",
      "8       12\n",
      "23       1\n",
      "Name: count, dtype: int64\n",
      "______________________________________________________________________\n",
      "valves_per_cylinder\n",
      "4     7948\n",
      "2      211\n",
      "3      199\n",
      "5        4\n",
      "69       2\n",
      "Name: count, dtype: int64\n",
      "______________________________________________________________________\n",
      "super_charger\n",
      "No     8341\n",
      "Yes      17\n",
      "yes       3\n",
      "NO        2\n",
      "no        1\n",
      "Name: count, dtype: int64\n",
      "______________________________________________________________________\n",
      "turbo_charger\n",
      "No       4818\n",
      "Yes      3425\n",
      "Twin       60\n",
      "NO         24\n",
      "YES        16\n",
      "no         10\n",
      "yes         8\n",
      "Turbo       2\n",
      "twin        1\n",
      "Name: count, dtype: int64\n",
      "______________________________________________________________________\n",
      "drive_type\n",
      "FWD                                  6775\n",
      "RWD                                   502\n",
      "AWD                                   338\n",
      "2WD                                   200\n",
      "4WD                                   173\n",
      "4X2                                    84\n",
      "2 WD                                   60\n",
      "Front Wheel Drive                      56\n",
      "4X4                                    53\n",
      "FWD                                    36\n",
      "4x2                                    20\n",
      "Two Wheel Drive                        20\n",
      "4x4                                    19\n",
      "RWD(with MTT)                           8\n",
      "All Wheel Drive                         8\n",
      "Rear Wheel Drive with ESP               7\n",
      "Permanent all-wheel drive quattro       2\n",
      "AWD INTEGRATED MANAGEMENT               1\n",
      "2WD                                     1\n",
      "4 WD                                    1\n",
      "Name: count, dtype: int64\n",
      "______________________________________________________________________\n",
      "steering_type\n",
      "Power         6601\n",
      "Electric      1483\n",
      "Electronic     107\n",
      "Manual          83\n",
      "Electrical      48\n",
      "power           29\n",
      "EPAS            10\n",
      "Hydraulic        2\n",
      "electric         1\n",
      "Name: count, dtype: int64\n",
      "______________________________________________________________________\n",
      "location\n",
      "Delhi        1483\n",
      "Bangalore    1481\n",
      "Hyderabad    1481\n",
      "Chennai      1419\n",
      "Kolkata      1380\n",
      "Jaipur       1120\n",
      "Name: count, dtype: int64\n",
      "______________________________________________________________________\n"
     ]
    }
   ],
   "source": [
    "categories = ['manufacturer',\n",
    "'body_type',\n",
    "'transmission_type',\n",
    "'fuel_type',\n",
    "'total_owners',\n",
    "'insurance_type',\n",
    "'seats',\n",
    "'number_of_cylinders',\n",
    "'valves_per_cylinder',\n",
    "'super_charger',\n",
    "'turbo_charger',\n",
    "'drive_type',\n",
    "'steering_type',\n",
    "'location'\n",
    "]\n",
    "\n",
    "for i in categories:\n",
    "    print(df[i].value_counts())\n",
    "    print('______________________________________________________________________')"
   ]
  },
  {
   "cell_type": "code",
   "execution_count": 97,
   "metadata": {},
   "outputs": [],
   "source": [
    "df = df.query('total_owners != 0')"
   ]
  },
  {
   "cell_type": "markdown",
   "metadata": {},
   "source": [
    "---"
   ]
  },
  {
   "cell_type": "code",
   "execution_count": 98,
   "metadata": {},
   "outputs": [],
   "source": [
    "df = df.query('insurance_type != \"1\"')\n",
    "df = df.query('insurance_type != \"2\"')"
   ]
  },
  {
   "cell_type": "code",
   "execution_count": 99,
   "metadata": {},
   "outputs": [],
   "source": [
    "df['insurance_type'] = df['insurance_type'].replace('Third Party', 'Third Party insurance')"
   ]
  },
  {
   "cell_type": "markdown",
   "metadata": {},
   "source": [
    "---"
   ]
  },
  {
   "cell_type": "code",
   "execution_count": 100,
   "metadata": {},
   "outputs": [],
   "source": [
    "df['super_charger'] = df['super_charger'].replace('NO', 'No')\n",
    "df['super_charger'] =  df['super_charger'].replace('no', 'No')\n",
    "df['super_charger'] = df['super_charger'].replace('yes', 'Yes')"
   ]
  },
  {
   "cell_type": "markdown",
   "metadata": {},
   "source": [
    "---"
   ]
  },
  {
   "cell_type": "code",
   "execution_count": 101,
   "metadata": {},
   "outputs": [],
   "source": [
    "df['turbo_charger'] = df['turbo_charger'].replace('NO', 'No')\n",
    "df['turbo_charger'] = df['turbo_charger'].replace('no', 'No')\n",
    "df['turbo_charger'] = df['turbo_charger'].replace('yes', 'Yes')\n",
    "df['turbo_charger'] = df['turbo_charger'].replace('YES', 'Yes')\n",
    "df['turbo_charger'] = df['turbo_charger'].replace('Turbo', 'Yes')\n",
    "df['turbo_charger'] = df['turbo_charger'].replace('Twin', 'Yes')\n",
    "df['turbo_charger'] = df['turbo_charger'].replace('twin', 'Yes')"
   ]
  },
  {
   "cell_type": "code",
   "execution_count": 102,
   "metadata": {},
   "outputs": [],
   "source": [
    "df['drive_type'] = df['drive_type'].replace('FWD ', 'Front Wheel Drive')\n",
    "df['drive_type'] = df['drive_type'].replace('RWD(with MTT)', 'RWD')\n",
    "df['drive_type'] = df['drive_type'].replace('Rear Wheel Drive with ESP', 'RWD')\n",
    "df['drive_type'] = df['drive_type'].replace('AWD', 'All Wheel Drive')\n",
    "df['drive_type'] = df['drive_type'].replace('Permanent all-wheel drive quattro', 'All Wheel Drive')\n",
    "df['drive_type'] = df['drive_type'].replace('AWD INTEGRATED MANAGEMENT', 'All Wheel Drive')\n",
    "df['drive_type'] = df['drive_type'].replace('2WD', 'Two Wheel Drive')\n",
    "df['drive_type'] = df['drive_type'].replace('2 WD', 'Two Wheel Drive')\n",
    "df['drive_type'] = df['drive_type'].replace('4X2', 'Two Wheel Drive')\n",
    "df['drive_type'] = df['drive_type'].replace('4X4', '4WD')\n",
    "df['drive_type'] = df['drive_type'].replace('4 WD', '4WD')"
   ]
  },
  {
   "cell_type": "markdown",
   "metadata": {},
   "source": [
    "---"
   ]
  },
  {
   "cell_type": "code",
   "execution_count": 103,
   "metadata": {},
   "outputs": [],
   "source": [
    "df['steering_type'] = df['steering_type'].replace('power' ,'Power')\n",
    "df['steering_type'] = df['steering_type'].replace('EPAS' ,'Power')\n",
    "df['steering_type'] = df['steering_type'].replace('Electric', 'Electronic')\n",
    "df['steering_type'] = df['steering_type'].replace('Electrical', 'Electronic')\n",
    "df['steering_type'] = df['steering_type'].replace('electric', 'Electronic')"
   ]
  },
  {
   "cell_type": "code",
   "execution_count": 104,
   "metadata": {},
   "outputs": [
    {
     "name": "stdout",
     "output_type": "stream",
     "text": [
      "manufacturer\n",
      "Maruti                2238\n",
      "Hyundai               1647\n",
      "Honda                  859\n",
      "Tata                   429\n",
      "Mahindra               374\n",
      "Toyota                 324\n",
      "Ford                   311\n",
      "Renault                309\n",
      "Volkswagen             293\n",
      "Mercedes-Benz          245\n",
      "BMW                    184\n",
      "Skoda                  159\n",
      "Kia                    158\n",
      "Audi                   155\n",
      "Jeep                   112\n",
      "MG                      87\n",
      "Nissan                  77\n",
      "Chevrolet               76\n",
      "Datsun                  74\n",
      "Land Rover              43\n",
      "Volvo                   41\n",
      "Jaguar                  35\n",
      "Fiat                    31\n",
      "Mitsubishi              14\n",
      "Mini                    12\n",
      "Citroen                  8\n",
      "Porsche                  6\n",
      "Lexus                    5\n",
      "Mahindra Renault         5\n",
      "Isuzu                    5\n",
      "Mahindra Ssangyong       4\n",
      "Hindustan Motors         4\n",
      "Opel                     3\n",
      "Name: count, dtype: int64\n",
      "______________________________________________________________________\n",
      "body_type\n",
      "Hatchback        3550\n",
      "SUV              2213\n",
      "Sedan            2165\n",
      "MUV               352\n",
      "Minivans           23\n",
      "Coupe              10\n",
      "Pickup Trucks       6\n",
      "Convertibles        6\n",
      "Hybrids             1\n",
      "Wagon               1\n",
      "Name: count, dtype: int64\n",
      "______________________________________________________________________\n",
      "transmission_type\n",
      "Manual       6021\n",
      "Automatic    2306\n",
      "Name: count, dtype: int64\n",
      "______________________________________________________________________\n",
      "fuel_type\n",
      "Petrol      5523\n",
      "Diesel      2663\n",
      "Cng           98\n",
      "Electric      27\n",
      "Lpg           16\n",
      "Name: count, dtype: int64\n",
      "______________________________________________________________________\n",
      "total_owners\n",
      "1    5874\n",
      "2    1980\n",
      "3     374\n",
      "4      80\n",
      "5      19\n",
      "Name: count, dtype: int64\n",
      "______________________________________________________________________\n",
      "insurance_type\n",
      "Third Party insurance    4661\n",
      "Comprehensive            3140\n",
      "Zero Dep                  303\n",
      "Not Available             223\n",
      "Name: count, dtype: int64\n",
      "______________________________________________________________________\n",
      "seats\n",
      "5.0     7324\n",
      "7.0      725\n",
      "6.0      100\n",
      "4.0       93\n",
      "8.0       62\n",
      "9.0       11\n",
      "2.0        7\n",
      "10.0       5\n",
      "Name: count, dtype: int64\n",
      "______________________________________________________________________\n",
      "number_of_cylinders\n",
      "4     6133\n",
      "3     2001\n",
      "6      128\n",
      "5       23\n",
      "2       16\n",
      "7       13\n",
      "8       12\n",
      "23       1\n",
      "Name: count, dtype: int64\n",
      "______________________________________________________________________\n",
      "valves_per_cylinder\n",
      "4     7914\n",
      "2      210\n",
      "3      197\n",
      "5        4\n",
      "69       2\n",
      "Name: count, dtype: int64\n",
      "______________________________________________________________________\n",
      "super_charger\n",
      "No     8307\n",
      "Yes      20\n",
      "Name: count, dtype: int64\n",
      "______________________________________________________________________\n",
      "turbo_charger\n",
      "No     4831\n",
      "Yes    3496\n",
      "Name: count, dtype: int64\n",
      "______________________________________________________________________\n",
      "drive_type\n",
      "FWD                  6748\n",
      "RWD                   515\n",
      "Two Wheel Drive       362\n",
      "All Wheel Drive       347\n",
      "4WD                   226\n",
      "Front Wheel Drive      92\n",
      "4x2                    20\n",
      "4x4                    16\n",
      "2WD                     1\n",
      "Name: count, dtype: int64\n",
      "______________________________________________________________________\n",
      "steering_type\n",
      "Power         6615\n",
      "Electronic    1627\n",
      "Manual          83\n",
      "Hydraulic        2\n",
      "Name: count, dtype: int64\n",
      "______________________________________________________________________\n",
      "location\n",
      "Hyderabad    1481\n",
      "Bangalore    1479\n",
      "Delhi        1476\n",
      "Chennai      1397\n",
      "Kolkata      1376\n",
      "Jaipur       1118\n",
      "Name: count, dtype: int64\n",
      "______________________________________________________________________\n"
     ]
    }
   ],
   "source": [
    "for i in categories:\n",
    "    print(df[i].value_counts())\n",
    "    print('______________________________________________________________________')"
   ]
  },
  {
   "cell_type": "code",
   "execution_count": 105,
   "metadata": {},
   "outputs": [],
   "source": [
    "df.to_csv(r'C:\\Users\\Gayathri\\OneDrive\\Desktop\\cardeckho\\processed_final_data.csv', index = False)"
   ]
  },
  {
   "cell_type": "markdown",
   "metadata": {},
   "source": [
    "---"
   ]
  }
 ],
 "metadata": {
  "kernelspec": {
   "display_name": "Python 3 (ipykernel)",
   "language": "python",
   "name": "python3"
  },
  "language_info": {
   "codemirror_mode": {
    "name": "ipython",
    "version": 3
   },
   "file_extension": ".py",
   "mimetype": "text/x-python",
   "name": "python",
   "nbconvert_exporter": "python",
   "pygments_lexer": "ipython3",
   "version": "3.11.5"
  }
 },
 "nbformat": 4,
 "nbformat_minor": 4
}
